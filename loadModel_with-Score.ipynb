{
 "cells": [
  {
   "cell_type": "code",
   "execution_count": 1,
   "metadata": {},
   "outputs": [
    {
     "name": "stdout",
     "output_type": "stream",
     "text": [
      "WARNING:tensorflow:From d:\\projek_belajar\\mini_projek\\hanacaraka_s\\loadModel\\lib\\site-packages\\keras\\src\\losses.py:2976: The name tf.losses.sparse_softmax_cross_entropy is deprecated. Please use tf.compat.v1.losses.sparse_softmax_cross_entropy instead.\n",
      "\n",
      "TensorFlow version: 2.15.0\n"
     ]
    }
   ],
   "source": [
    "import tensorflow as tf\n",
    "\n",
    "print(\"TensorFlow version:\", tf.__version__)"
   ]
  },
  {
   "cell_type": "code",
   "execution_count": 6,
   "metadata": {},
   "outputs": [
    {
     "name": "stdout",
     "output_type": "stream",
     "text": [
      "Model berhasil dimuat.\n",
      "Error: harap masukkan aksara Jawa.\n"
     ]
    }
   ],
   "source": [
    "import numpy as np\n",
    "import tensorflow as tf\n",
    "from tensorflow.keras.preprocessing import image\n",
    "import cv2\n",
    "import os\n",
    "\n",
    "# Fungsi untuk memuat dan mempersiapkan gambar\n",
    "def load_and_prepare_image(file_path, target_size=(150, 150)):\n",
    "    img = image.load_img(file_path, target_size=target_size)\n",
    "    img_array = image.img_to_array(img)\n",
    "    img_array = np.expand_dims(img_array, axis=0)\n",
    "    img_array /= 255.0\n",
    "    return img_array\n",
    "\n",
    "# Fungsi untuk mendeteksi apakah gambar mengandung aksara Jawa\n",
    "def is_javanese_script(img_array):\n",
    "    # Konversi gambar ke grayscale\n",
    "    gray_img = cv2.cvtColor(img_array[0].astype('uint8'), cv2.COLOR_RGB2GRAY)\n",
    "    \n",
    "    # Gunakan deteksi tepi Canny untuk mendeteksi tepi dalam gambar\n",
    "    edges = cv2.Canny(gray_img, threshold1=50, threshold2=150)\n",
    "    \n",
    "    # Menghitung jumlah piksel tepi\n",
    "    edge_pixel_count = np.sum(edges) / 255\n",
    "    \n",
    "    # Tentukan threshold untuk jumlah piksel tepi yang wajar untuk aksara Jawa\n",
    "    # Ini adalah heuristik sederhana, perlu disesuaikan dengan dataset Anda\n",
    "    if edge_pixel_count > 1000:\n",
    "        return True\n",
    "    else:\n",
    "        return False\n",
    "\n",
    "# Path ke file model yang telah disimpan\n",
    "model_path = './model/modelC.keras'\n",
    "\n",
    "# Memeriksa apakah file model ada\n",
    "if not os.path.exists(model_path):\n",
    "    raise FileNotFoundError(f\"File model tidak ditemukan di path: {model_path}\")\n",
    "\n",
    "# Memuat model\n",
    "model = tf.keras.models.load_model(model_path)\n",
    "print(\"Model berhasil dimuat.\")\n",
    "\n",
    "# Path ke file gambar yang ingin diprediksi\n",
    "file_path = './data-test/hijaiyah_ya.png'\n",
    "\n",
    "# Memeriksa apakah file gambar ada\n",
    "if not os.path.exists(file_path):\n",
    "    raise FileNotFoundError(f\"File gambar tidak ditemukan di path: {file_path}\")\n",
    "\n",
    "# Memuat dan mempersiapkan gambar\n",
    "img_array = load_and_prepare_image(file_path)\n",
    "\n",
    "# Memeriksa apakah gambar mengandung aksara Jawa\n",
    "if not is_javanese_script(img_array):\n",
    "    print(\"Error: harap masukkan aksara Jawa.\")\n",
    "else:\n",
    "    # Melakukan prediksi menggunakan model aksara Jawa\n",
    "    predictions = model.predict(img_array)\n",
    "    predicted_class_index = np.argmax(predictions, axis=1)\n",
    "    predicted_score = np.max(predictions, axis=1)\n",
    "\n",
    "    # Mendapatkan nama kelas (sesuaikan dengan kelas yang Anda miliki)\n",
    "    class_names = ['ba', 'ca', 'da', 'dha', 'ga', 'ha', 'ja', 'ka', 'la', 'ma', 'na', 'nga', 'nya', 'pa', 'ra', 'sa', 'ta', 'tha', 'wa', 'ya']  # Contoh: Ganti dengan nama kelas yang sesuai dengan model Anda\n",
    "    predicted_class_name = class_names[predicted_class_index[0]]\n",
    "\n",
    "    # Menampilkan hasil prediksi dan skor\n",
    "    if predicted_score[0] < 0.5:\n",
    "        print(\"Error: tolong masukkan aksara Jawa yang benar.\")\n",
    "    else:\n",
    "        print(f\"Hasil prediksi: {predicted_class_name} dengan skor {predicted_score[0]:.4f}\")\n"
   ]
  },
  {
   "cell_type": "code",
   "execution_count": null,
   "metadata": {},
   "outputs": [],
   "source": []
  }
 ],
 "metadata": {
  "kernelspec": {
   "display_name": "loadModel",
   "language": "python",
   "name": "python3"
  },
  "language_info": {
   "codemirror_mode": {
    "name": "ipython",
    "version": 3
   },
   "file_extension": ".py",
   "mimetype": "text/x-python",
   "name": "python",
   "nbconvert_exporter": "python",
   "pygments_lexer": "ipython3",
   "version": "3.9.6"
  }
 },
 "nbformat": 4,
 "nbformat_minor": 2
}
