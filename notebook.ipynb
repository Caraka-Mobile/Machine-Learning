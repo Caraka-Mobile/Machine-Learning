{
 "cells": [
  {
   "cell_type": "markdown",
   "metadata": {},
   "source": [
    "# CNN with 2.15 Tensorflow"
   ]
  },
  {
   "cell_type": "markdown",
   "metadata": {},
   "source": [
    "## Install Dependencies"
   ]
  },
  {
   "cell_type": "code",
   "execution_count": 3,
   "metadata": {},
   "outputs": [
    {
     "name": "stdout",
     "output_type": "stream",
     "text": [
      "Collecting tensorflow==2.15.0\n",
      "  Using cached tensorflow-2.15.0-cp39-cp39-win_amd64.whl.metadata (3.6 kB)\n",
      "Collecting tensorflow-intel==2.15.0 (from tensorflow==2.15.0)\n",
      "  Using cached tensorflow_intel-2.15.0-cp39-cp39-win_amd64.whl.metadata (5.1 kB)\n",
      "Requirement already satisfied: absl-py>=1.0.0 in c:\\users\\hp\\miniconda3\\envs\\main-ds\\lib\\site-packages (from tensorflow-intel==2.15.0->tensorflow==2.15.0) (2.1.0)\n",
      "Requirement already satisfied: astunparse>=1.6.0 in c:\\users\\hp\\miniconda3\\envs\\main-ds\\lib\\site-packages (from tensorflow-intel==2.15.0->tensorflow==2.15.0) (1.6.3)\n",
      "Requirement already satisfied: flatbuffers>=23.5.26 in c:\\users\\hp\\miniconda3\\envs\\main-ds\\lib\\site-packages (from tensorflow-intel==2.15.0->tensorflow==2.15.0) (24.3.25)\n",
      "Requirement already satisfied: gast!=0.5.0,!=0.5.1,!=0.5.2,>=0.2.1 in c:\\users\\hp\\miniconda3\\envs\\main-ds\\lib\\site-packages (from tensorflow-intel==2.15.0->tensorflow==2.15.0) (0.5.4)\n",
      "Requirement already satisfied: google-pasta>=0.1.1 in c:\\users\\hp\\miniconda3\\envs\\main-ds\\lib\\site-packages (from tensorflow-intel==2.15.0->tensorflow==2.15.0) (0.2.0)\n",
      "Requirement already satisfied: h5py>=2.9.0 in c:\\users\\hp\\miniconda3\\envs\\main-ds\\lib\\site-packages (from tensorflow-intel==2.15.0->tensorflow==2.15.0) (3.11.0)\n",
      "Requirement already satisfied: libclang>=13.0.0 in c:\\users\\hp\\miniconda3\\envs\\main-ds\\lib\\site-packages (from tensorflow-intel==2.15.0->tensorflow==2.15.0) (18.1.1)\n",
      "Requirement already satisfied: ml-dtypes~=0.2.0 in c:\\users\\hp\\miniconda3\\envs\\main-ds\\lib\\site-packages (from tensorflow-intel==2.15.0->tensorflow==2.15.0) (0.2.0)\n",
      "Requirement already satisfied: numpy<2.0.0,>=1.23.5 in c:\\users\\hp\\miniconda3\\envs\\main-ds\\lib\\site-packages (from tensorflow-intel==2.15.0->tensorflow==2.15.0) (1.26.4)\n",
      "Requirement already satisfied: opt-einsum>=2.3.2 in c:\\users\\hp\\miniconda3\\envs\\main-ds\\lib\\site-packages (from tensorflow-intel==2.15.0->tensorflow==2.15.0) (3.3.0)\n",
      "Requirement already satisfied: packaging in c:\\users\\hp\\appdata\\roaming\\python\\python39\\site-packages (from tensorflow-intel==2.15.0->tensorflow==2.15.0) (23.2)\n",
      "Requirement already satisfied: protobuf!=4.21.0,!=4.21.1,!=4.21.2,!=4.21.3,!=4.21.4,!=4.21.5,<5.0.0dev,>=3.20.3 in c:\\users\\hp\\miniconda3\\envs\\main-ds\\lib\\site-packages (from tensorflow-intel==2.15.0->tensorflow==2.15.0) (4.25.3)\n",
      "Requirement already satisfied: setuptools in c:\\users\\hp\\miniconda3\\envs\\main-ds\\lib\\site-packages (from tensorflow-intel==2.15.0->tensorflow==2.15.0) (68.2.2)\n",
      "Requirement already satisfied: six>=1.12.0 in c:\\users\\hp\\appdata\\roaming\\python\\python39\\site-packages (from tensorflow-intel==2.15.0->tensorflow==2.15.0) (1.16.0)\n",
      "Requirement already satisfied: termcolor>=1.1.0 in c:\\users\\hp\\miniconda3\\envs\\main-ds\\lib\\site-packages (from tensorflow-intel==2.15.0->tensorflow==2.15.0) (2.4.0)\n",
      "Requirement already satisfied: typing-extensions>=3.6.6 in c:\\users\\hp\\appdata\\roaming\\python\\python39\\site-packages (from tensorflow-intel==2.15.0->tensorflow==2.15.0) (4.10.0)\n",
      "Requirement already satisfied: wrapt<1.15,>=1.11.0 in c:\\users\\hp\\miniconda3\\envs\\main-ds\\lib\\site-packages (from tensorflow-intel==2.15.0->tensorflow==2.15.0) (1.14.1)\n",
      "Requirement already satisfied: tensorflow-io-gcs-filesystem>=0.23.1 in c:\\users\\hp\\miniconda3\\envs\\main-ds\\lib\\site-packages (from tensorflow-intel==2.15.0->tensorflow==2.15.0) (0.31.0)\n",
      "Requirement already satisfied: grpcio<2.0,>=1.24.3 in c:\\users\\hp\\miniconda3\\envs\\main-ds\\lib\\site-packages (from tensorflow-intel==2.15.0->tensorflow==2.15.0) (1.64.0)\n",
      "Requirement already satisfied: tensorboard<2.16,>=2.15 in c:\\users\\hp\\miniconda3\\envs\\main-ds\\lib\\site-packages (from tensorflow-intel==2.15.0->tensorflow==2.15.0) (2.15.2)\n",
      "Requirement already satisfied: tensorflow-estimator<2.16,>=2.15.0 in c:\\users\\hp\\miniconda3\\envs\\main-ds\\lib\\site-packages (from tensorflow-intel==2.15.0->tensorflow==2.15.0) (2.15.0)\n",
      "Requirement already satisfied: keras<2.16,>=2.15.0 in c:\\users\\hp\\miniconda3\\envs\\main-ds\\lib\\site-packages (from tensorflow-intel==2.15.0->tensorflow==2.15.0) (2.15.0)\n",
      "Requirement already satisfied: wheel<1.0,>=0.23.0 in c:\\users\\hp\\miniconda3\\envs\\main-ds\\lib\\site-packages (from astunparse>=1.6.0->tensorflow-intel==2.15.0->tensorflow==2.15.0) (0.41.2)\n",
      "Requirement already satisfied: google-auth<3,>=1.6.3 in c:\\users\\hp\\miniconda3\\envs\\main-ds\\lib\\site-packages (from tensorboard<2.16,>=2.15->tensorflow-intel==2.15.0->tensorflow==2.15.0) (2.29.0)\n",
      "Requirement already satisfied: google-auth-oauthlib<2,>=0.5 in c:\\users\\hp\\miniconda3\\envs\\main-ds\\lib\\site-packages (from tensorboard<2.16,>=2.15->tensorflow-intel==2.15.0->tensorflow==2.15.0) (1.2.0)\n",
      "Requirement already satisfied: markdown>=2.6.8 in c:\\users\\hp\\miniconda3\\envs\\main-ds\\lib\\site-packages (from tensorboard<2.16,>=2.15->tensorflow-intel==2.15.0->tensorflow==2.15.0) (3.6)\n",
      "Requirement already satisfied: requests<3,>=2.21.0 in c:\\users\\hp\\miniconda3\\envs\\main-ds\\lib\\site-packages (from tensorboard<2.16,>=2.15->tensorflow-intel==2.15.0->tensorflow==2.15.0) (2.31.0)\n",
      "Requirement already satisfied: tensorboard-data-server<0.8.0,>=0.7.0 in c:\\users\\hp\\miniconda3\\envs\\main-ds\\lib\\site-packages (from tensorboard<2.16,>=2.15->tensorflow-intel==2.15.0->tensorflow==2.15.0) (0.7.2)\n",
      "Requirement already satisfied: werkzeug>=1.0.1 in c:\\users\\hp\\miniconda3\\envs\\main-ds\\lib\\site-packages (from tensorboard<2.16,>=2.15->tensorflow-intel==2.15.0->tensorflow==2.15.0) (3.0.3)\n",
      "Requirement already satisfied: cachetools<6.0,>=2.0.0 in c:\\users\\hp\\miniconda3\\envs\\main-ds\\lib\\site-packages (from google-auth<3,>=1.6.3->tensorboard<2.16,>=2.15->tensorflow-intel==2.15.0->tensorflow==2.15.0) (5.3.3)\n",
      "Requirement already satisfied: pyasn1-modules>=0.2.1 in c:\\users\\hp\\miniconda3\\envs\\main-ds\\lib\\site-packages (from google-auth<3,>=1.6.3->tensorboard<2.16,>=2.15->tensorflow-intel==2.15.0->tensorflow==2.15.0) (0.4.0)\n",
      "Requirement already satisfied: rsa<5,>=3.1.4 in c:\\users\\hp\\miniconda3\\envs\\main-ds\\lib\\site-packages (from google-auth<3,>=1.6.3->tensorboard<2.16,>=2.15->tensorflow-intel==2.15.0->tensorflow==2.15.0) (4.9)\n",
      "Requirement already satisfied: requests-oauthlib>=0.7.0 in c:\\users\\hp\\miniconda3\\envs\\main-ds\\lib\\site-packages (from google-auth-oauthlib<2,>=0.5->tensorboard<2.16,>=2.15->tensorflow-intel==2.15.0->tensorflow==2.15.0) (2.0.0)\n",
      "Requirement already satisfied: importlib-metadata>=4.4 in c:\\users\\hp\\appdata\\roaming\\python\\python39\\site-packages (from markdown>=2.6.8->tensorboard<2.16,>=2.15->tensorflow-intel==2.15.0->tensorflow==2.15.0) (7.0.1)\n",
      "Requirement already satisfied: charset-normalizer<4,>=2 in c:\\users\\hp\\miniconda3\\envs\\main-ds\\lib\\site-packages (from requests<3,>=2.21.0->tensorboard<2.16,>=2.15->tensorflow-intel==2.15.0->tensorflow==2.15.0) (3.3.2)\n",
      "Requirement already satisfied: idna<4,>=2.5 in c:\\users\\hp\\miniconda3\\envs\\main-ds\\lib\\site-packages (from requests<3,>=2.21.0->tensorboard<2.16,>=2.15->tensorflow-intel==2.15.0->tensorflow==2.15.0) (3.6)\n",
      "Requirement already satisfied: urllib3<3,>=1.21.1 in c:\\users\\hp\\miniconda3\\envs\\main-ds\\lib\\site-packages (from requests<3,>=2.21.0->tensorboard<2.16,>=2.15->tensorflow-intel==2.15.0->tensorflow==2.15.0) (2.2.1)\n",
      "Requirement already satisfied: certifi>=2017.4.17 in c:\\users\\hp\\miniconda3\\envs\\main-ds\\lib\\site-packages (from requests<3,>=2.21.0->tensorboard<2.16,>=2.15->tensorflow-intel==2.15.0->tensorflow==2.15.0) (2024.2.2)\n",
      "Requirement already satisfied: MarkupSafe>=2.1.1 in c:\\users\\hp\\miniconda3\\envs\\main-ds\\lib\\site-packages (from werkzeug>=1.0.1->tensorboard<2.16,>=2.15->tensorflow-intel==2.15.0->tensorflow==2.15.0) (2.1.5)\n",
      "Requirement already satisfied: zipp>=0.5 in c:\\users\\hp\\appdata\\roaming\\python\\python39\\site-packages (from importlib-metadata>=4.4->markdown>=2.6.8->tensorboard<2.16,>=2.15->tensorflow-intel==2.15.0->tensorflow==2.15.0) (3.17.0)\n",
      "Requirement already satisfied: pyasn1<0.7.0,>=0.4.6 in c:\\users\\hp\\miniconda3\\envs\\main-ds\\lib\\site-packages (from pyasn1-modules>=0.2.1->google-auth<3,>=1.6.3->tensorboard<2.16,>=2.15->tensorflow-intel==2.15.0->tensorflow==2.15.0) (0.6.0)\n",
      "Requirement already satisfied: oauthlib>=3.0.0 in c:\\users\\hp\\miniconda3\\envs\\main-ds\\lib\\site-packages (from requests-oauthlib>=0.7.0->google-auth-oauthlib<2,>=0.5->tensorboard<2.16,>=2.15->tensorflow-intel==2.15.0->tensorflow==2.15.0) (3.2.2)\n",
      "Using cached tensorflow-2.15.0-cp39-cp39-win_amd64.whl (2.1 kB)\n",
      "Using cached tensorflow_intel-2.15.0-cp39-cp39-win_amd64.whl (300.8 MB)\n",
      "Installing collected packages: tensorflow-intel, tensorflow\n",
      "Successfully installed tensorflow-2.15.0 tensorflow-intel-2.15.0\n"
     ]
    }
   ],
   "source": [
    "!pip install tensorflow==2.15.0"
   ]
  },
  {
   "cell_type": "code",
   "execution_count": 36,
   "metadata": {},
   "outputs": [
    {
     "name": "stdout",
     "output_type": "stream",
     "text": [
      "2.15.0\n"
     ]
    }
   ],
   "source": [
    "print(tf.__version__)"
   ]
  },
  {
   "cell_type": "code",
   "execution_count": 4,
   "metadata": {},
   "outputs": [
    {
     "name": "stdout",
     "output_type": "stream",
     "text": [
      "Name: tensorflow\n",
      "Version: 2.15.0\n",
      "Summary: TensorFlow is an open source machine learning framework for everyone.\n",
      "Home-page: https://www.tensorflow.org/\n",
      "Author: Google Inc.\n",
      "Author-email: packages@tensorflow.org\n",
      "License: Apache 2.0\n",
      "Location: c:\\users\\hp\\miniconda3\\envs\\main-ds\\lib\\site-packages\n",
      "Requires: tensorflow-intel\n",
      "Required-by: \n",
      "Note: you may need to restart the kernel to use updated packages.\n"
     ]
    }
   ],
   "source": [
    "pip show tensorflow"
   ]
  },
  {
   "cell_type": "code",
   "execution_count": 37,
   "metadata": {},
   "outputs": [],
   "source": [
    "import numpy as np\n",
    "import matplotlib.pyplot as plt\n",
    "import tensorflow as tf\n",
    "\n",
    "from tensorflow import keras\n",
    "from tensorflow.keras import layers\n",
    "\n",
    "from keras.preprocessing.image import ImageDataGenerator\n",
    "from tensorflow.keras.applications import MobileNetV2\n",
    "from tensorflow.keras.layers import Dense, Dropout, GlobalAveragePooling2D\n",
    "from tensorflow.keras.models import Model\n",
    "from tensorflow.keras.preprocessing.image import ImageDataGenerator\n",
    "from tensorflow.keras.callbacks import EarlyStopping, ReduceLROnPlateau, ModelCheckpoint\n"
   ]
  },
  {
   "cell_type": "markdown",
   "metadata": {},
   "source": [
    "## Konfigurasi Direktori\n",
    "\n",
    "### Cleaning Data & Load Data"
   ]
  },
  {
   "cell_type": "code",
   "execution_count": 28,
   "metadata": {},
   "outputs": [],
   "source": [
    "data_dir = 'data' "
   ]
  },
  {
   "cell_type": "code",
   "execution_count": 31,
   "metadata": {},
   "outputs": [],
   "source": [
    "from PIL import Image\n",
    "import os\n",
    "\n",
    "def remove_corrupted_images(directory):\n",
    "    for root, _, files in os.walk(directory):\n",
    "        for file in files:\n",
    "            if file.endswith(('jpg', 'jpeg', 'png')):\n",
    "                file_path = os.path.join(root, file)\n",
    "                try:\n",
    "                    with Image.open(file_path) as img:\n",
    "                        img.verify()  # Verifikasi bahwa gambar tidak rusak\n",
    "                except (IOError, SyntaxError):\n",
    "                    print(f'Menghapus gambar yang rusak: {file_path}')\n",
    "                    os.remove(file_path)  # Hapus gambar yang rusak\n",
    "\n",
    "# Jalankan fungsi pada direktori yang berisi gambar-gambar Anda\n",
    "remove_corrupted_images('./data')  # Ganti dengan path direktori Anda\n"
   ]
  },
  {
   "cell_type": "code",
   "execution_count": 32,
   "metadata": {},
   "outputs": [],
   "source": [
    "from PIL import Image\n",
    "import os\n",
    "\n",
    "def check_images(directory):\n",
    "    for root, _, files in os.walk(directory):\n",
    "        for file in files:\n",
    "            if file.endswith(('jpg', 'jpeg', 'png')):\n",
    "                file_path = os.path.join(root, file)\n",
    "                try:\n",
    "                    with Image.open(file_path) as img:\n",
    "                        img.verify()\n",
    "                except (IOError, SyntaxError) as e:\n",
    "                    print('Bad file:', file_path)\n",
    "\n",
    "check_images('./data')  # Ganti dengan path direktori Anda\n"
   ]
  },
  {
   "cell_type": "code",
   "execution_count": 33,
   "metadata": {},
   "outputs": [
    {
     "name": "stdout",
     "output_type": "stream",
     "text": [
      "total training ha_dir images: 204\n",
      "total training na_dir images: 211\n",
      "total training ca_dir images: 211\n",
      "total training ra_dir images: 208\n",
      "total training ka_dir images: 211\n",
      "total training da_dir images: 211\n",
      "total training ta_dir images: 208\n",
      "total training sa_dir images: 211\n",
      "total training wa_dir images: 211\n",
      "total training la_dir images: 210\n",
      "total training pa_dir images: 209\n",
      "total training dha_dir images: 209\n",
      "total training ja_dir images: 210\n",
      "total training ya_dir images: 211\n",
      "total training nya_dir images: 210\n",
      "total training ma_dir images: 211\n",
      "total training ga_dir images: 210\n",
      "total training ba_dir images: 217\n",
      "total training tha_dir images: 209\n",
      "total training nga_dir images: 205\n",
      "['4693335674404368252_base64_5.png', '4693340161012711825_base64_5.png', '4693350885715757021_base64_5.png', '4693358261014228548_base64_5.png', '4693360511011442821_base64_5.png', '4693362338961252252_base64_5.png', '4693373627497522149_base64_5.png', '4693375707324818184_base64_5.png', '4693384475653021540_base64_5.png', '4693400787496937443_base64_5.png']\n",
      "['4693335674404368252_base64_8.png', '4693340161012711825_base64_8.png', '4693350885715757021_base64_8.png', '4693358261014228548_base64_8.png', '4693360511011442821_base64_8.png', '4693362338961252252_base64_8.png', '4693373627497522149_base64_8.png', '4693375707324818184_base64_8.png', '4693384475653021540_base64_8.png', '4693400787496937443_base64_8.png']\n",
      "['4693335674404368252_base64_12.png', '4693340161012711825_base64_12.png', '4693350885715757021_base64_12.png', '4693358261014228548_base64_12.png', '4693360511011442821_base64_12.png', '4693362338961252252_base64_12.png', '4693373627497522149_base64_12.png', '4693375707324818184_base64_12.png', '4693384475653021540_base64_12.png', '4693400787496937443_base64_12.png']\n",
      "['4693335674404368252_base64_14.png', '4693340161012711825_base64_14.png', '4693350885715757021_base64_14.png', '4693358261014228548_base64_14.png', '4693360511011442821_base64_14.png', '4693362338961252252_base64_14.png', '4693373627497522149_base64_14.png', '4693375707324818184_base64_14.png', '4693384475653021540_base64_14.png', '4693400787496937443_base64_14.png']\n",
      "['4693335674404368252_base64_16.png', '4693340161012711825_base64_16.png', '4693350885715757021_base64_16.png', '4693358261014228548_base64_16.png', '4693360511011442821_base64_16.png', '4693362338961252252_base64_16.png', '4693373627497522149_base64_16.png', '4693375707324818184_base64_16.png', '4693384475653021540_base64_16.png', '4693400787496937443_base64_16.png']\n",
      "['4693335674404368252_base64_19.png', '4693340161012711825_base64_19.png', '4693350885715757021_base64_19.png', '4693358261014228548_base64_19.png', '4693360511011442821_base64_19.png', '4693362338961252252_base64_19.png', '4693373627497522149_base64_19.png', '4693375707324818184_base64_19.png', '4693384475653021540_base64_19.png', '4693400787496937443_base64_19.png']\n",
      "['4693335674404368252_base64_21.png', '4693340161012711825_base64_21.png', '4693350885715757021_base64_21.png', '4693358261014228548_base64_21.png', '4693360511011442821_base64_21.png', '4693362338961252252_base64_21.png', '4693373627497522149_base64_21.png', '4693375707324818184_base64_21.png', '4693384475653021540_base64_21.png', '4693400787496937443_base64_21.png']\n",
      "['4693335674404368252_base64_23.png', '4693340161012711825_base64_23.png', '4693350885715757021_base64_23.png', '4693358261014228548_base64_23.png', '4693360511011442821_base64_23.png', '4693362338961252252_base64_23.png', '4693373627497522149_base64_23.png', '4693375707324818184_base64_23.png', '4693384475653021540_base64_23.png', '4693400787496937443_base64_23.png']\n",
      "['4693335674404368252_base64_25.png', '4693340161012711825_base64_25.png', '4693350885715757021_base64_25.png', '4693358261014228548_base64_25.png', '4693360511011442821_base64_25.png', '4693362338961252252_base64_25.png', '4693373627497522149_base64_25.png', '4693375707324818184_base64_25.png', '4693384475653021540_base64_25.png', '4693400787496937443_base64_25.png']\n",
      "['4693335674404368252_base64_27.png', '4693340161012711825_base64_27.png', '4693350885715757021_base64_27.png', '4693358261014228548_base64_27.png', '4693360511011442821_base64_27.png', '4693362338961252252_base64_27.png', '4693373627497522149_base64_27.png', '4693375707324818184_base64_27.png', '4693384475653021540_base64_27.png', '4693400787496937443_base64_27.png']\n",
      "['4693335674404368252_base64_30.png', '4693340161012711825_base64_30.png', '4693350885715757021_base64_30.png', '4693358261014228548_base64_30.png', '4693360511011442821_base64_30.png', '4693362338961252252_base64_30.png', '4693373627497522149_base64_30.png', '4693375707324818184_base64_30.png', '4693384475653021540_base64_30.png', '4693400787496937443_base64_30.png']\n",
      "['4693335674404368252_base64_32.png', '4693340161012711825_base64_32.png', '4693350885715757021_base64_32.png', '4693358261014228548_base64_32.png', '4693360511011442821_base64_32.png', '4693362338961252252_base64_32.png', '4693373627497522149_base64_32.png', '4693375707324818184_base64_32.png', '4693384475653021540_base64_32.png', '4693400787496937443_base64_32.png']\n",
      "['4693335674404368252_base64_34.png', '4693340161012711825_base64_34.png', '4693350885715757021_base64_34.png', '4693358261014228548_base64_34.png', '4693360511011442821_base64_34.png', '4693362338961252252_base64_34.png', '4693373627497522149_base64_34.png', '4693375707324818184_base64_34.png', '4693384475653021540_base64_34.png', '4693400787496937443_base64_34.png']\n",
      "['4693335674404368252_base64_36.png', '4693340161012711825_base64_36.png', '4693350885715757021_base64_36.png', '4693358261014228548_base64_36.png', '4693360511011442821_base64_36.png', '4693362338961252252_base64_36.png', '4693373627497522149_base64_36.png', '4693375707324818184_base64_36.png', '4693384475653021540_base64_36.png', '4693400787496937443_base64_36.png']\n",
      "['4693335674404368252_base64_38.png', '4693340161012711825_base64_38.png', '4693350885715757021_base64_38.png', '4693358261014228548_base64_38.png', '4693360511011442821_base64_38.png', '4693362338961252252_base64_38.png', '4693373627497522149_base64_38.png', '4693375707324818184_base64_38.png', '4693384475653021540_base64_38.png', '4693400787496937443_base64_38.png']\n",
      "['4693335674404368252_base64_41.png', '4693340161012711825_base64_41.png', '4693350885715757021_base64_41.png', '4693358261014228548_base64_41.png', '4693360511011442821_base64_41.png', '4693362338961252252_base64_41.png', '4693373627497522149_base64_41.png', '4693375707324818184_base64_41.png', '4693384475653021540_base64_41.png', '4693400787496937443_base64_41.png']\n",
      "['4693335674404368252_base64_43.png', '4693340161012711825_base64_43.png', '4693350885715757021_base64_43.png', '4693358261014228548_base64_43.png', '4693360511011442821_base64_43.png', '4693362338961252252_base64_43.png', '4693373627497522149_base64_43.png', '4693375707324818184_base64_43.png', '4693384475653021540_base64_43.png', '4693400787496937443_base64_43.png']\n",
      "['4693335674404368252_base64_45.png', '4693340161012711825_base64_45.png', '4693350885715757021_base64_45.png', '4693358261014228548_base64_45.png', '4693360511011442821_base64_45.png', '4693362338961252252_base64_45.png', '4693373627497522149_base64_45.png', '4693375707324818184_base64_45.png', '4693384475653021540_base64_45.png', '4693400787496937443_base64_45.png']\n",
      "['4693335674404368252_base64_47.png', '4693340161012711825_base64_47.png', '4693350885715757021_base64_47.png', '4693358261014228548_base64_47.png', '4693360511011442821_base64_47.png', '4693362338961252252_base64_47.png', '4693373627497522149_base64_47.png', '4693375707324818184_base64_47.png', '4693384475653021540_base64_47.png', '4693400787496937443_base64_47.png']\n",
      "['4693335674404368252_base64_49.png', '4693340161012711825_base64_49.png', '4693350885715757021_base64_49.png', '4693358261014228548_base64_49.png', '4693360511011442821_base64_49.png', '4693362338961252252_base64_49.png', '4693373627497522149_base64_49.png', '4693375707324818184_base64_49.png', '4693384475653021540_base64_49.png', '4693400787496937443_base64_49.png']\n"
     ]
    }
   ],
   "source": [
    "import os\n",
    "\n",
    "base_dir = './data'\n",
    "\n",
    "dirs = {char+'_dir': os.path.join(base_dir, char) for char in ['ha', 'na', 'ca', 'ra', 'ka', 'da', 'ta', 'sa', 'wa', 'la', 'pa', 'dha', 'ja', 'ya', 'nya', 'ma', 'ga', 'ba', 'tha', 'nga']}\n",
    "ha_dir = os.path.join(base_dir, 'ha')\n",
    "na_dir = os.path.join(base_dir, 'na')\n",
    "ca_dir = os.path.join(base_dir, 'ca')\n",
    "ra_dir = os.path.join(base_dir, 'ra')\n",
    "ka_dir = os.path.join(base_dir, 'ka')\n",
    "da_dir = os.path.join(base_dir, 'da')\n",
    "ta_dir = os.path.join(base_dir, 'ta')\n",
    "sa_dir = os.path.join(base_dir, 'sa')\n",
    "wa_dir = os.path.join(base_dir, 'wa')\n",
    "la_dir = os.path.join(base_dir, 'la')\n",
    "pa_dir = os.path.join(base_dir, 'pa')\n",
    "dha_dir = os.path.join(base_dir, 'dha')\n",
    "ja_dir = os.path.join(base_dir, 'ja')\n",
    "ya_dir = os.path.join(base_dir, 'ya')\n",
    "nya_dir = os.path.join(base_dir, 'nya')\n",
    "ma_dir = os.path.join(base_dir, 'ma')\n",
    "ga_dir = os.path.join(base_dir, 'ga')\n",
    "ba_dir = os.path.join(base_dir, 'ba')\n",
    "tha_dir = os.path.join(base_dir, 'tha')\n",
    "nga_dir = os.path.join(base_dir, 'nga')\n",
    "\n",
    "for char, char_dir in dirs.items():\n",
    "    print(f\"total training {char} images:\", len(os.listdir(char_dir)))\n",
    "\n",
    "\n",
    "ha_files = os.listdir(ha_dir)\n",
    "print(ha_files[:10])\n",
    "\n",
    "na_files = os.listdir(na_dir)\n",
    "print(na_files[:10])\n",
    "\n",
    "ca_files = os.listdir(ca_dir)\n",
    "print(ca_files[:10])\n",
    "\n",
    "ra_files = os.listdir(ra_dir)\n",
    "print(ra_files[:10])\n",
    "\n",
    "ka_files = os.listdir(ka_dir)\n",
    "print(ka_files[:10])\n",
    "\n",
    "da_files = os.listdir(da_dir)\n",
    "print(da_files[:10])\n",
    "\n",
    "ta_files = os.listdir(ta_dir)\n",
    "print(ta_files[:10])\n",
    "\n",
    "sa_files = os.listdir(sa_dir)\n",
    "print(sa_files[:10])\n",
    "\n",
    "wa_files = os.listdir(wa_dir)\n",
    "print(wa_files[:10])\n",
    "\n",
    "la_files = os.listdir(la_dir)\n",
    "print(la_files[:10])\n",
    "\n",
    "pa_files = os.listdir(pa_dir)\n",
    "print(pa_files[:10])\n",
    "\n",
    "dha_files = os.listdir(dha_dir)\n",
    "print(dha_files[:10])\n",
    "\n",
    "ja_files = os.listdir(ja_dir)\n",
    "print(ja_files[:10])\n",
    "\n",
    "ya_files = os.listdir(ya_dir)\n",
    "print(ya_files[:10])\n",
    "\n",
    "nya_files = os.listdir(nya_dir)\n",
    "print(nya_files[:10])\n",
    "\n",
    "ma_files = os.listdir(ma_dir)\n",
    "print(ma_files[:10])\n",
    "\n",
    "ga_files = os.listdir(ga_dir)\n",
    "print(ga_files[:10])\n",
    "\n",
    "ba_files = os.listdir(ba_dir)\n",
    "print(ba_files[:10])\n",
    "\n",
    "tha_files = os.listdir(tha_dir)\n",
    "print(tha_files[:10])\n",
    "\n",
    "nga_files = os.listdir(nga_dir)\n",
    "print(nga_files[:10])"
   ]
  },
  {
   "cell_type": "code",
   "execution_count": 34,
   "metadata": {},
   "outputs": [],
   "source": []
  },
  {
   "cell_type": "code",
   "execution_count": 35,
   "metadata": {},
   "outputs": [
    {
     "data": {
      "image/png": "[encoded data removed]",
      "text/plain": [
       "<Figure size 640x480 with 1 Axes>"
      ]
     },
     "metadata": {},
     "output_type": "display_data"
    },
    {
     "data": {
      "image/png": "[encoded data removed]",
      "text/plain": [
       "<Figure size 640x480 with 1 Axes>"
      ]
     },
     "metadata": {},
     "output_type": "display_data"
    }
   ],
   "source": [
    "%matplotlib inline\n",
    "\n",
    "import matplotlib.pyplot as plt\n",
    "import matplotlib.image as mpimg\n",
    "\n",
    "pic_index = 2\n",
    "\n",
    "next_ha = [os.path.join(ha_dir, fname)\n",
    "                for fname in ha_files[pic_index-2:pic_index]]\n",
    "next_na = [os.path.join(na_dir, fname)\n",
    "                for fname in na_files[pic_index-2:pic_index]]\n",
    "\n",
    "next_ca = [os.path.join(ca_dir, fname) \n",
    "           for fname in ca_files[pic_index-2:pic_index]]\n",
    "next_ra = [os.path.join(ra_dir, fname) for fname in ra_files[pic_index-2:pic_index]]\n",
    "next_ka = [os.path.join(ka_dir, fname) for fname in ka_files[pic_index-2:pic_index]]\n",
    "next_da = [os.path.join(da_dir, fname) for fname in da_files[pic_index-2:pic_index]]\n",
    "next_ta = [os.path.join(ta_dir, fname) for fname in ta_files[pic_index-2:pic_index]]\n",
    "next_sa = [os.path.join(sa_dir, fname) for fname in sa_files[pic_index-2:pic_index]]\n",
    "next_wa = [os.path.join(wa_dir, fname) for fname in wa_files[pic_index-2:pic_index]]\n",
    "next_la = [os.path.join(la_dir, fname) for fname in la_files[pic_index-2:pic_index]]\n",
    "next_pa = [os.path.join(pa_dir, fname) for fname in pa_files[pic_index-2:pic_index]]\n",
    "next_dha = [os.path.join(dha_dir, fname) for fname in dha_files[pic_index-2:pic_index]]\n",
    "next_ja = [os.path.join(ja_dir, fname) for fname in ja_files[pic_index-2:pic_index]]\n",
    "next_ya = [os.path.join(ya_dir, fname) for fname in ya_files[pic_index-2:pic_index]]\n",
    "next_nya = [os.path.join(nya_dir, fname) for fname in nya_files[pic_index-2:pic_index]]\n",
    "next_ma = [os.path.join(ma_dir, fname) for fname in ma_files[pic_index-2:pic_index]]\n",
    "next_ga = [os.path.join(ga_dir, fname) for fname in ga_files[pic_index-2:pic_index]]\n",
    "next_ba = [os.path.join(ba_dir, fname) for fname in ba_files[pic_index-2:pic_index]]\n",
    "next_tha = [os.path.join(tha_dir, fname) for fname in tha_files[pic_index-2:pic_index]]\n",
    "next_nga = [os.path.join(nga_dir, fname) for fname in nga_files[pic_index-2:pic_index]]\n",
    "\n",
    "\n",
    "for i, img_path in enumerate(next_ha):\n",
    "  img = mpimg.imread(img_path)\n",
    "  plt.imshow(img)\n",
    "  plt.axis('Off')\n",
    "  plt.show()"
   ]
  },
  {
   "cell_type": "code",
   "execution_count": 24,
   "metadata": {},
   "outputs": [
    {
     "name": "stdout",
     "output_type": "stream",
     "text": [
      "2.15.0\n"
     ]
    }
   ],
   "source": []
  },
  {
   "cell_type": "code",
   "execution_count": 25,
   "metadata": {},
   "outputs": [
    {
     "name": "stdout",
     "output_type": "stream",
     "text": [
      "Found 3363 images belonging to 20 classes.\n",
      "Found 833 images belonging to 20 classes.\n"
     ]
    }
   ],
   "source": [
    "img_width, img_height = 150, 150\n",
    "batch_size = 32\n",
    "\n",
    "train_datagen = ImageDataGenerator(\n",
    "    rescale=1./255,\n",
    "    validation_split=0.2,\n",
    "    horizontal_flip=True,\n",
    "    rotation_range=10,\n",
    "    zoom_range=0.2\n",
    ")\n",
    "\n",
    "train_dataset = train_datagen.flow_from_directory(\n",
    "    './data',\n",
    "    target_size=(img_width, img_height),\n",
    "    batch_size=batch_size,\n",
    "    class_mode='sparse',\n",
    "    subset='training'\n",
    ")\n",
    "\n",
    "validation_dataset = train_datagen.flow_from_directory(\n",
    "    './data',\n",
    "    target_size=(img_width, img_height),\n",
    "    batch_size=batch_size,\n",
    "    class_mode='sparse',\n",
    "    subset='validation'\n",
    ")\n"
   ]
  },
  {
   "cell_type": "code",
   "execution_count": 3,
   "metadata": {},
   "outputs": [
    {
     "name": "stdout",
     "output_type": "stream",
     "text": [
      "Model: \"sequential\"\n",
      "_________________________________________________________________\n",
      " Layer (type)                Output Shape              Param #   \n",
      "=================================================================\n",
      " conv2d (Conv2D)             (None, 148, 148, 32)      896       \n",
      "                                                                 \n",
      " batch_normalization (Batch  (None, 148, 148, 32)      128       \n",
      " Normalization)                                                  \n",
      "                                                                 \n",
      " max_pooling2d (MaxPooling2  (None, 74, 74, 32)        0         \n",
      " D)                                                              \n",
      "                                                                 \n",
      " dropout_2 (Dropout)         (None, 74, 74, 32)        0         \n",
      "                                                                 \n",
      " conv2d_1 (Conv2D)           (None, 72, 72, 64)        18496     \n",
      "                                                                 \n",
      " batch_normalization_1 (Bat  (None, 72, 72, 64)        256       \n",
      " chNormalization)                                                \n",
      "                                                                 \n",
      " max_pooling2d_1 (MaxPoolin  (None, 36, 36, 64)        0         \n",
      " g2D)                                                            \n",
      "                                                                 \n",
      " dropout_3 (Dropout)         (None, 36, 36, 64)        0         \n",
      "                                                                 \n",
      " conv2d_2 (Conv2D)           (None, 34, 34, 128)       73856     \n",
      "                                                                 \n",
      " batch_normalization_2 (Bat  (None, 34, 34, 128)       512       \n",
      " chNormalization)                                                \n",
      "                                                                 \n",
      " max_pooling2d_2 (MaxPoolin  (None, 17, 17, 128)       0         \n",
      " g2D)                                                            \n",
      "                                                                 \n",
      " dropout_4 (Dropout)         (None, 17, 17, 128)       0         \n",
      "                                                                 \n",
      " conv2d_3 (Conv2D)           (None, 15, 15, 256)       295168    \n",
      "                                                                 \n",
      " batch_normalization_3 (Bat  (None, 15, 15, 256)       1024      \n",
      " chNormalization)                                                \n",
      "                                                                 \n",
      " max_pooling2d_3 (MaxPoolin  (None, 7, 7, 256)         0         \n",
      " g2D)                                                            \n",
      "                                                                 \n",
      " dropout_5 (Dropout)         (None, 7, 7, 256)         0         \n",
      "                                                                 \n",
      " conv2d_4 (Conv2D)           (None, 5, 5, 512)         1180160   \n",
      "                                                                 \n",
      " batch_normalization_4 (Bat  (None, 5, 5, 512)         2048      \n",
      " chNormalization)                                                \n",
      "                                                                 \n",
      " max_pooling2d_4 (MaxPoolin  (None, 2, 2, 512)         0         \n",
      " g2D)                                                            \n",
      "                                                                 \n",
      " dropout_6 (Dropout)         (None, 2, 2, 512)         0         \n",
      "                                                                 \n",
      " flatten (Flatten)           (None, 2048)              0         \n",
      "                                                                 \n",
      " dense_4 (Dense)             (None, 512)               1049088   \n",
      "                                                                 \n",
      " batch_normalization_5 (Bat  (None, 512)               2048      \n",
      " chNormalization)                                                \n",
      "                                                                 \n",
      " dropout_7 (Dropout)         (None, 512)               0         \n",
      "                                                                 \n",
      " dense_5 (Dense)             (None, 20)                10260     \n",
      "                                                                 \n",
      "=================================================================\n",
      "Total params: 2633940 (10.05 MB)\n",
      "Trainable params: 2630932 (10.04 MB)\n",
      "Non-trainable params: 3008 (11.75 KB)\n",
      "_________________________________________________________________\n"
     ]
    }
   ],
   "source": [
    "import tensorflow as tf\n",
    "from tensorflow.keras.layers import Conv2D, BatchNormalization, MaxPooling2D, Dropout, Flatten, Dense\n",
    "from tensorflow.keras.callbacks import EarlyStopping, ReduceLROnPlateau, ModelCheckpoint\n",
    "from tensorflow.keras.regularizers import l2\n",
    "\n",
    "model = tf.keras.models.Sequential([\n",
    "    Conv2D(32, (3,3), activation='relu', input_shape=(150, 150, 3)),\n",
    "    BatchNormalization(),\n",
    "    MaxPooling2D((2, 2)),\n",
    "    Dropout(0.25),\n",
    "\n",
    "    Conv2D(64, (3, 3), activation='relu'),\n",
    "    BatchNormalization(),\n",
    "    MaxPooling2D((2, 2)),\n",
    "    Dropout(0.3),\n",
    "\n",
    "    Conv2D(128, (3, 3), activation='relu'),\n",
    "    BatchNormalization(),\n",
    "    MaxPooling2D((2, 2)),\n",
    "    Dropout(0.4),\n",
    "\n",
    "    Conv2D(256, (3, 3), activation='relu'),\n",
    "    BatchNormalization(),\n",
    "    MaxPooling2D((2, 2)),\n",
    "    Dropout(0.5),\n",
    "\n",
    "    Conv2D(512, (3, 3), activation='relu'),\n",
    "    BatchNormalization(),\n",
    "    MaxPooling2D((2, 2)),\n",
    "    Dropout(0.5),\n",
    "\n",
    "    Flatten(),\n",
    "    Dense(512, activation='relu', kernel_regularizer=l2(0.001)),\n",
    "    BatchNormalization(),\n",
    "    Dropout(0.5),\n",
    "    Dense(20, activation='softmax')\n",
    "])\n",
    "\n",
    "# Print the model summary\n",
    "model.summary()\n",
    "\n",
    "# Set the training parameters\n",
    "model.compile(loss='sparse_categorical_crossentropy', optimizer='adam', metrics=['accuracy'])\n"
   ]
  },
  {
   "cell_type": "code",
   "execution_count": 4,
   "metadata": {},
   "outputs": [
    {
     "name": "stdout",
     "output_type": "stream",
     "text": [
      "Found 4196 files belonging to 20 classes.\n",
      "Using 3357 files for training.\n",
      "Found 4196 files belonging to 20 classes.\n",
      "Using 839 files for validation.\n",
      "Epoch 1/100\n",
      "105/105 [==============================] - 329s 3s/step - loss: 4.4275 - accuracy: 0.1379 - val_loss: 3.1381 - val_accuracy: 0.3373 - lr: 0.0010\n",
      "Epoch 2/100\n",
      "105/105 [==============================] - 279s 3s/step - loss: 3.3285 - accuracy: 0.3372 - val_loss: 2.6671 - val_accuracy: 0.4517 - lr: 0.0010\n",
      "Epoch 3/100\n",
      "105/105 [==============================] - 272s 3s/step - loss: 2.7327 - accuracy: 0.4781 - val_loss: 2.1278 - val_accuracy: 0.6138 - lr: 0.0010\n",
      "Epoch 4/100\n",
      "105/105 [==============================] - 277s 3s/step - loss: 2.3950 - accuracy: 0.5562 - val_loss: 2.3506 - val_accuracy: 0.5685 - lr: 0.0010\n",
      "Epoch 5/100\n",
      "105/105 [==============================] - 354s 3s/step - loss: 2.0388 - accuracy: 0.6494 - val_loss: 1.8339 - val_accuracy: 0.6925 - lr: 0.0010\n",
      "Epoch 6/100\n",
      "105/105 [==============================] - 295s 3s/step - loss: 1.8357 - accuracy: 0.6950 - val_loss: 10.7536 - val_accuracy: 0.1645 - lr: 0.0010\n",
      "Epoch 7/100\n",
      "105/105 [==============================] - 220s 2s/step - loss: 1.6629 - accuracy: 0.7435 - val_loss: 4.0523 - val_accuracy: 0.3683 - lr: 0.0010\n",
      "Epoch 8/100\n",
      "105/105 [==============================] - 242s 2s/step - loss: 1.5436 - accuracy: 0.7781 - val_loss: 1.4479 - val_accuracy: 0.8129 - lr: 0.0010\n",
      "Epoch 9/100\n",
      "105/105 [==============================] - 249s 2s/step - loss: 1.4275 - accuracy: 0.7977 - val_loss: 1.3080 - val_accuracy: 0.8391 - lr: 0.0010\n",
      "Epoch 10/100\n",
      "105/105 [==============================] - 261s 2s/step - loss: 1.3382 - accuracy: 0.8234 - val_loss: 5.4483 - val_accuracy: 0.3337 - lr: 0.0010\n",
      "Epoch 11/100\n",
      "105/105 [==============================] - 292s 3s/step - loss: 1.2425 - accuracy: 0.8320 - val_loss: 3.4232 - val_accuracy: 0.4112 - lr: 0.0010\n",
      "Epoch 12/100\n",
      "105/105 [==============================] - 255s 2s/step - loss: 1.1852 - accuracy: 0.8463 - val_loss: 4.0884 - val_accuracy: 0.3862 - lr: 0.0010\n",
      "Epoch 13/100\n",
      "105/105 [==============================] - 250s 2s/step - loss: 1.1313 - accuracy: 0.8546 - val_loss: 14.3303 - val_accuracy: 0.1025 - lr: 0.0010\n",
      "Epoch 14/100\n",
      "105/105 [==============================] - 286s 3s/step - loss: 1.0910 - accuracy: 0.8680 - val_loss: 1.4562 - val_accuracy: 0.7688 - lr: 0.0010\n",
      "Epoch 15/100\n",
      "105/105 [==============================] - 333s 3s/step - loss: 0.9787 - accuracy: 0.8853 - val_loss: 0.9448 - val_accuracy: 0.9142 - lr: 2.0000e-04\n",
      "Epoch 16/100\n",
      "105/105 [==============================] - 375s 4s/step - loss: 0.9062 - accuracy: 0.9074 - val_loss: 0.9101 - val_accuracy: 0.9261 - lr: 2.0000e-04\n",
      "Epoch 17/100\n",
      "105/105 [==============================] - 287s 3s/step - loss: 0.8762 - accuracy: 0.9085 - val_loss: 0.9476 - val_accuracy: 0.9011 - lr: 2.0000e-04\n",
      "Epoch 18/100\n",
      "105/105 [==============================] - 312s 3s/step - loss: 0.8559 - accuracy: 0.9169 - val_loss: 1.0324 - val_accuracy: 0.8641 - lr: 2.0000e-04\n",
      "Epoch 19/100\n",
      "105/105 [==============================] - 259s 2s/step - loss: 0.8135 - accuracy: 0.9252 - val_loss: 0.9377 - val_accuracy: 0.8927 - lr: 2.0000e-04\n",
      "Epoch 20/100\n",
      "105/105 [==============================] - 229s 2s/step - loss: 0.8125 - accuracy: 0.9240 - val_loss: 0.8861 - val_accuracy: 0.9082 - lr: 2.0000e-04\n",
      "Epoch 21/100\n",
      "105/105 [==============================] - 269s 3s/step - loss: 0.7884 - accuracy: 0.9199 - val_loss: 0.8381 - val_accuracy: 0.9225 - lr: 2.0000e-04\n",
      "Epoch 22/100\n",
      "105/105 [==============================] - 246s 2s/step - loss: 0.7548 - accuracy: 0.9339 - val_loss: 0.8490 - val_accuracy: 0.9154 - lr: 2.0000e-04\n",
      "Epoch 23/100\n",
      "105/105 [==============================] - 257s 2s/step - loss: 0.7297 - accuracy: 0.9294 - val_loss: 1.2453 - val_accuracy: 0.7878 - lr: 2.0000e-04\n",
      "Epoch 24/100\n",
      "105/105 [==============================] - 255s 2s/step - loss: 0.7204 - accuracy: 0.9291 - val_loss: 0.7893 - val_accuracy: 0.9190 - lr: 2.0000e-04\n",
      "Epoch 25/100\n",
      "105/105 [==============================] - 269s 3s/step - loss: 0.6958 - accuracy: 0.9371 - val_loss: 0.7686 - val_accuracy: 0.9190 - lr: 2.0000e-04\n",
      "Epoch 26/100\n",
      "105/105 [==============================] - 271s 3s/step - loss: 0.6703 - accuracy: 0.9392 - val_loss: 0.7295 - val_accuracy: 0.9297 - lr: 2.0000e-04\n",
      "Epoch 27/100\n",
      "105/105 [==============================] - 272s 3s/step - loss: 0.6405 - accuracy: 0.9470 - val_loss: 1.0300 - val_accuracy: 0.8367 - lr: 2.0000e-04\n",
      "Epoch 28/100\n",
      "105/105 [==============================] - 274s 3s/step - loss: 0.6314 - accuracy: 0.9431 - val_loss: 0.8003 - val_accuracy: 0.9011 - lr: 2.0000e-04\n",
      "Epoch 29/100\n",
      "105/105 [==============================] - 248s 2s/step - loss: 0.6190 - accuracy: 0.9467 - val_loss: 0.7007 - val_accuracy: 0.9285 - lr: 2.0000e-04\n",
      "Epoch 30/100\n",
      "105/105 [==============================] - 215s 2s/step - loss: 0.5946 - accuracy: 0.9455 - val_loss: 1.1354 - val_accuracy: 0.8057 - lr: 2.0000e-04\n",
      "Epoch 31/100\n",
      "105/105 [==============================] - 215s 2s/step - loss: 0.5737 - accuracy: 0.9500 - val_loss: 0.6868 - val_accuracy: 0.9309 - lr: 2.0000e-04\n",
      "Epoch 32/100\n",
      "105/105 [==============================] - 200s 2s/step - loss: 0.5631 - accuracy: 0.9508 - val_loss: 0.6785 - val_accuracy: 0.9261 - lr: 2.0000e-04\n",
      "Epoch 33/100\n",
      "105/105 [==============================] - 222s 2s/step - loss: 0.5565 - accuracy: 0.9511 - val_loss: 0.6521 - val_accuracy: 0.9321 - lr: 2.0000e-04\n",
      "Epoch 34/100\n",
      "105/105 [==============================] - 228s 2s/step - loss: 0.5302 - accuracy: 0.9550 - val_loss: 0.6267 - val_accuracy: 0.9297 - lr: 2.0000e-04\n",
      "Epoch 35/100\n",
      "105/105 [==============================] - 222s 2s/step - loss: 0.5184 - accuracy: 0.9538 - val_loss: 0.7671 - val_accuracy: 0.8880 - lr: 2.0000e-04\n",
      "Epoch 36/100\n",
      "105/105 [==============================] - 242s 2s/step - loss: 0.4919 - accuracy: 0.9589 - val_loss: 0.6887 - val_accuracy: 0.9166 - lr: 2.0000e-04\n",
      "Epoch 37/100\n",
      "105/105 [==============================] - 277s 3s/step - loss: 0.4837 - accuracy: 0.9574 - val_loss: 0.6914 - val_accuracy: 0.9011 - lr: 2.0000e-04\n",
      "Epoch 38/100\n",
      "105/105 [==============================] - 274s 3s/step - loss: 0.4637 - accuracy: 0.9607 - val_loss: 2.7804 - val_accuracy: 0.5447 - lr: 2.0000e-04\n",
      "Epoch 39/100\n",
      "105/105 [==============================] - 270s 3s/step - loss: 0.4649 - accuracy: 0.9574 - val_loss: 0.8299 - val_accuracy: 0.8629 - lr: 2.0000e-04\n",
      "Epoch 40/100\n",
      "105/105 [==============================] - 257s 2s/step - loss: 0.4415 - accuracy: 0.9631 - val_loss: 0.5977 - val_accuracy: 0.9321 - lr: 1.0000e-04\n",
      "Epoch 41/100\n",
      "105/105 [==============================] - 229s 2s/step - loss: 0.4243 - accuracy: 0.9678 - val_loss: 0.5716 - val_accuracy: 0.9344 - lr: 1.0000e-04\n",
      "Epoch 42/100\n",
      "105/105 [==============================] - 225s 2s/step - loss: 0.4040 - accuracy: 0.9723 - val_loss: 0.6478 - val_accuracy: 0.9046 - lr: 1.0000e-04\n",
      "Epoch 43/100\n",
      "105/105 [==============================] - 224s 2s/step - loss: 0.4242 - accuracy: 0.9651 - val_loss: 0.5545 - val_accuracy: 0.9333 - lr: 1.0000e-04\n",
      "Epoch 44/100\n",
      "105/105 [==============================] - 228s 2s/step - loss: 0.4147 - accuracy: 0.9643 - val_loss: 0.5721 - val_accuracy: 0.9249 - lr: 1.0000e-04\n",
      "Epoch 45/100\n",
      "105/105 [==============================] - 229s 2s/step - loss: 0.4032 - accuracy: 0.9675 - val_loss: 1.1559 - val_accuracy: 0.8224 - lr: 1.0000e-04\n",
      "Epoch 46/100\n",
      "105/105 [==============================] - 231s 2s/step - loss: 0.3969 - accuracy: 0.9702 - val_loss: 0.9567 - val_accuracy: 0.8427 - lr: 1.0000e-04\n",
      "Epoch 47/100\n",
      "105/105 [==============================] - 229s 2s/step - loss: 0.3784 - accuracy: 0.9729 - val_loss: 0.5526 - val_accuracy: 0.9249 - lr: 1.0000e-04\n",
      "Epoch 48/100\n",
      "105/105 [==============================] - 228s 2s/step - loss: 0.3787 - accuracy: 0.9726 - val_loss: 0.6080 - val_accuracy: 0.9035 - lr: 1.0000e-04\n",
      "Epoch 49/100\n",
      "105/105 [==============================] - 242s 2s/step - loss: 0.3613 - accuracy: 0.9759 - val_loss: 0.5919 - val_accuracy: 0.9201 - lr: 1.0000e-04\n",
      "Epoch 50/100\n",
      "105/105 [==============================] - 297s 3s/step - loss: 0.3647 - accuracy: 0.9714 - val_loss: 0.5566 - val_accuracy: 0.9309 - lr: 1.0000e-04\n",
      "Epoch 51/100\n",
      "105/105 [==============================] - 297s 3s/step - loss: 0.3518 - accuracy: 0.9768 - val_loss: 0.5320 - val_accuracy: 0.9285 - lr: 1.0000e-04\n",
      "Epoch 52/100\n",
      "105/105 [==============================] - 291s 3s/step - loss: 0.3466 - accuracy: 0.9717 - val_loss: 0.5193 - val_accuracy: 0.9321 - lr: 1.0000e-04\n",
      "Epoch 53/100\n",
      "105/105 [==============================] - 292s 3s/step - loss: 0.3502 - accuracy: 0.9702 - val_loss: 0.6655 - val_accuracy: 0.8939 - lr: 1.0000e-04\n",
      "Epoch 54/100\n",
      "105/105 [==============================] - 257s 2s/step - loss: 0.3336 - accuracy: 0.9744 - val_loss: 0.5448 - val_accuracy: 0.9261 - lr: 1.0000e-04\n",
      "Epoch 55/100\n",
      "105/105 [==============================] - 252s 2s/step - loss: 0.3358 - accuracy: 0.9717 - val_loss: 0.5033 - val_accuracy: 0.9333 - lr: 1.0000e-04\n",
      "Epoch 56/100\n",
      "105/105 [==============================] - 239s 2s/step - loss: 0.3330 - accuracy: 0.9741 - val_loss: 0.5397 - val_accuracy: 0.9261 - lr: 1.0000e-04\n",
      "Epoch 57/100\n",
      "105/105 [==============================] - 238s 2s/step - loss: 0.3238 - accuracy: 0.9741 - val_loss: 0.5054 - val_accuracy: 0.9309 - lr: 1.0000e-04\n",
      "Epoch 58/100\n",
      "105/105 [==============================] - 229s 2s/step - loss: 0.3105 - accuracy: 0.9806 - val_loss: 0.5241 - val_accuracy: 0.9273 - lr: 1.0000e-04\n",
      "Epoch 59/100\n",
      "105/105 [==============================] - 253s 2s/step - loss: 0.3136 - accuracy: 0.9750 - val_loss: 0.5156 - val_accuracy: 0.9261 - lr: 1.0000e-04\n",
      "Epoch 60/100\n",
      "105/105 [==============================] - 205s 2s/step - loss: 0.3046 - accuracy: 0.9780 - val_loss: 0.5009 - val_accuracy: 0.9344 - lr: 1.0000e-04\n",
      "Epoch 61/100\n",
      "105/105 [==============================] - 202s 2s/step - loss: 0.2946 - accuracy: 0.9806 - val_loss: 0.5207 - val_accuracy: 0.9285 - lr: 1.0000e-04\n",
      "Epoch 62/100\n",
      "105/105 [==============================] - 200s 2s/step - loss: 0.2873 - accuracy: 0.9797 - val_loss: 0.5083 - val_accuracy: 0.9249 - lr: 1.0000e-04\n",
      "Epoch 63/100\n",
      "105/105 [==============================] - 201s 2s/step - loss: 0.2933 - accuracy: 0.9753 - val_loss: 0.5111 - val_accuracy: 0.9333 - lr: 1.0000e-04\n",
      "Epoch 64/100\n",
      "105/105 [==============================] - 198s 2s/step - loss: 0.2764 - accuracy: 0.9824 - val_loss: 0.4839 - val_accuracy: 0.9321 - lr: 1.0000e-04\n",
      "Epoch 65/100\n",
      "105/105 [==============================] - 216s 2s/step - loss: 0.2829 - accuracy: 0.9762 - val_loss: 0.5492 - val_accuracy: 0.9082 - lr: 1.0000e-04\n",
      "Epoch 66/100\n",
      "105/105 [==============================] - 236s 2s/step - loss: 0.2658 - accuracy: 0.9839 - val_loss: 0.5184 - val_accuracy: 0.9154 - lr: 1.0000e-04\n",
      "Epoch 67/100\n",
      "105/105 [==============================] - 231s 2s/step - loss: 0.2623 - accuracy: 0.9836 - val_loss: 0.4804 - val_accuracy: 0.9213 - lr: 1.0000e-04\n",
      "Epoch 68/100\n",
      "105/105 [==============================] - 231s 2s/step - loss: 0.2664 - accuracy: 0.9783 - val_loss: 0.4626 - val_accuracy: 0.9309 - lr: 1.0000e-04\n",
      "Epoch 69/100\n",
      "105/105 [==============================] - 246s 2s/step - loss: 0.2524 - accuracy: 0.9857 - val_loss: 0.4793 - val_accuracy: 0.9285 - lr: 1.0000e-04\n",
      "Epoch 70/100\n",
      "105/105 [==============================] - 234s 2s/step - loss: 0.2581 - accuracy: 0.9791 - val_loss: 0.5456 - val_accuracy: 0.9142 - lr: 1.0000e-04\n",
      "Epoch 71/100\n",
      "105/105 [==============================] - 238s 2s/step - loss: 0.2557 - accuracy: 0.9803 - val_loss: 0.4768 - val_accuracy: 0.9273 - lr: 1.0000e-04\n",
      "Epoch 72/100\n",
      "105/105 [==============================] - 239s 2s/step - loss: 0.2445 - accuracy: 0.9842 - val_loss: 0.4669 - val_accuracy: 0.9249 - lr: 1.0000e-04\n",
      "Epoch 73/100\n",
      "105/105 [==============================] - 236s 2s/step - loss: 0.2424 - accuracy: 0.9812 - val_loss: 0.4647 - val_accuracy: 0.9309 - lr: 1.0000e-04\n",
      "Epoch 74/100\n",
      "105/105 [==============================] - 232s 2s/step - loss: 0.2358 - accuracy: 0.9848 - val_loss: 0.8299 - val_accuracy: 0.8439 - lr: 1.0000e-04\n",
      "Epoch 75/100\n",
      "105/105 [==============================] - 231s 2s/step - loss: 0.2309 - accuracy: 0.9830 - val_loss: 0.4962 - val_accuracy: 0.9261 - lr: 1.0000e-04\n",
      "Epoch 76/100\n",
      "105/105 [==============================] - 228s 2s/step - loss: 0.2333 - accuracy: 0.9866 - val_loss: 0.5268 - val_accuracy: 0.9225 - lr: 1.0000e-04\n",
      "Epoch 77/100\n",
      "105/105 [==============================] - 228s 2s/step - loss: 0.2283 - accuracy: 0.9854 - val_loss: 0.4647 - val_accuracy: 0.9273 - lr: 1.0000e-04\n",
      "Epoch 78/100\n",
      "105/105 [==============================] - 233s 2s/step - loss: 0.2302 - accuracy: 0.9803 - val_loss: 0.4924 - val_accuracy: 0.9178 - lr: 1.0000e-04\n",
      "27/27 [==============================] - 14s 518ms/step - loss: 0.4626 - accuracy: 0.9309\n",
      "Validation accuracy: 0.93\n"
     ]
    }
   ],
   "source": [
    "from tensorflow.keras.utils import image_dataset_from_directory\n",
    "\n",
    "img_width = 150\n",
    "img_height = 150\n",
    "\n",
    "from tensorflow.keras.utils import image_dataset_from_directory\n",
    "\n",
    "# Membuat dataset pelatihan dan validasi\n",
    "train_dataset = image_dataset_from_directory(\n",
    "    './data',\n",
    "    validation_split=0.2,\n",
    "    subset=\"training\",\n",
    "    seed=123,\n",
    "    image_size=(img_width, img_height),\n",
    "    batch_size=32)\n",
    "\n",
    "validation_dataset = image_dataset_from_directory(\n",
    "    './data',\n",
    "    validation_split=0.2,\n",
    "    subset=\"validation\",\n",
    "    seed=123,\n",
    "    image_size=(img_width, img_height),\n",
    "    batch_size=32)\n",
    "\n",
    "# Callback untuk early stopping, reduce learning rate, dan model checkpoint\n",
    "early_stopping = EarlyStopping(monitor='val_loss', patience=10, restore_best_weights=True)\n",
    "reduce_lr = ReduceLROnPlateau(monitor='val_loss', factor=0.2, patience=5, min_lr=0.0001)\n",
    "model_checkpoint = ModelCheckpoint('best_model.keras', monitor='val_loss', save_best_only=True)\n",
    "\n",
    "# Training model\n",
    "history = model.fit(\n",
    "    train_dataset,\n",
    "    epochs=100,\n",
    "    validation_data=validation_dataset,\n",
    "    callbacks=[early_stopping, reduce_lr, model_checkpoint]\n",
    ")\n",
    "\n",
    "\n",
    "# Evaluasi model\n",
    "loss, accuracy = model.evaluate(validation_dataset)\n",
    "print(f'Validation accuracy: {accuracy:.2f}')"
   ]
  },
  {
   "cell_type": "code",
   "execution_count": 6,
   "metadata": {},
   "outputs": [],
   "source": [
    "import matplotlib.pyplot as plt"
   ]
  },
  {
   "cell_type": "code",
   "execution_count": 7,
   "metadata": {},
   "outputs": [
    {
     "data": {
      "image/png": "[encoded data removed]",
      "text/plain": [
       "<Figure size 640x480 with 1 Axes>"
      ]
     },
     "metadata": {},
     "output_type": "display_data"
    }
   ],
   "source": [
    "fig = plt.figure()\n",
    "plt.plot(history.history['loss'], color='teal', label='loss')\n",
    "plt.plot(history.history['val_loss'], color='orange', label='val_loss')\n",
    "fig.suptitle('Loss', fontsize=20)\n",
    "plt.legend(loc=\"upper left\")\n",
    "plt.show()"
   ]
  },
  {
   "cell_type": "code",
   "execution_count": 8,
   "metadata": {},
   "outputs": [
    {
     "data": {
      "image/png": "[encoded data removed]",
      "text/plain": [
       "<Figure size 640x480 with 1 Axes>"
      ]
     },
     "metadata": {},
     "output_type": "display_data"
    }
   ],
   "source": [
    "fig = plt.figure()\n",
    "plt.plot(history.history['accuracy'], color='teal', label='accuracy')\n",
    "plt.plot(history.history['val_accuracy'], color='orange', label='val_accuracy')\n",
    "fig.suptitle('Accuracy', fontsize=20)\n",
    "plt.legend(loc=\"upper left\")\n",
    "plt.show()"
   ]
  },
  {
   "cell_type": "code",
   "execution_count": 9,
   "metadata": {},
   "outputs": [
    {
     "name": "stdout",
     "output_type": "stream",
     "text": [
      "1/1 [==============================] - 1s 1s/step\n",
      "Prediksi huruf hijaiyah: tha\n"
     ]
    }
   ],
   "source": [
    "import numpy as np\n",
    "from tensorflow.keras.preprocessing import image\n",
    "\n",
    "# Fungsi untuk memuat dan mempersiapkan gambar\n",
    "def load_and_prepare_image(file_path, img_width, img_height):\n",
    "    img = image.load_img(file_path, target_size=(img_width, img_height))\n",
    "    img_array = image.img_to_array(img)\n",
    "    img_array = np.expand_dims(img_array, axis=0)  # Membuat batch yang terdiri dari satu gambar\n",
    "    return img_array\n",
    "\n",
    "# Memprediksi gambar baru\n",
    "file_path = 'tha.png'  # Ganti dengan path ke gambar yang ingin diprediksi\n",
    "img_width, img_height = 150, 150  # Ganti dengan dimensi yang sesuai dengan model\n",
    "img_array = load_and_prepare_image(file_path, img_width, img_height)\n",
    "\n",
    "predictions = model.predict(img_array)\n",
    "predicted_class_index = np.argmax(predictions, axis=1)\n",
    "\n",
    "# Mendapatkan nama kelas dari class _names\n",
    "predicted_class_name = train_dataset.class_names[predicted_class_index[0]]\n",
    "\n",
    "print(f\"Prediksi huruf hijaiyah: {predicted_class_name}\")\n"
   ]
  },
  {
   "cell_type": "code",
   "execution_count": 1,
   "metadata": {},
   "outputs": [
    {
     "ename": "NameError",
     "evalue": "name 'model' is not defined",
     "output_type": "error",
     "traceback": [
      "\u001b[1;31m---------------------------------------------------------------------------\u001b[0m",
      "\u001b[1;31mNameError\u001b[0m                                 Traceback (most recent call last)",
      "Cell \u001b[1;32mIn[1], line 1\u001b[0m\n\u001b[1;32m----> 1\u001b[0m \u001b[43mmodel\u001b[49m\u001b[38;5;241m.\u001b[39msave(\u001b[38;5;124m'\u001b[39m\u001b[38;5;124mmodel.keras\u001b[39m\u001b[38;5;124m'\u001b[39m)\n",
      "\u001b[1;31mNameError\u001b[0m: name 'model' is not defined"
     ]
    }
   ],
   "source": [
    "model.save('model.keras')"
   ]
  },
  {
   "cell_type": "code",
   "execution_count": 11,
   "metadata": {},
   "outputs": [
    {
     "name": "stdout",
     "output_type": "stream",
     "text": [
      "INFO:tensorflow:Assets written to: C:\\Users\\HP\\AppData\\Local\\Temp\\tmp7pocvbfp\\assets\n"
     ]
    },
    {
     "name": "stderr",
     "output_type": "stream",
     "text": [
      "INFO:tensorflow:Assets written to: C:\\Users\\HP\\AppData\\Local\\Temp\\tmp7pocvbfp\\assets\n"
     ]
    }
   ],
   "source": [
    "# Muat model yang telah disimpan dengan compile=False\n",
    "model = tf.keras.models.load_model('modelC.keras', compile=False)\n",
    "\n",
    "# Konversi model ke TensorFlow Lite\n",
    "converter = tf.lite.TFLiteConverter.from_keras_model(model)\n",
    "tflite_model = converter.convert()\n",
    "\n",
    "# Simpan model TensorFlow Lite\n",
    "with open('model.tflite', 'wb') as f:\n",
    "    f.write(tflite_model)"
   ]
  },
  {
   "cell_type": "code",
   "execution_count": null,
   "metadata": {},
   "outputs": [],
   "source": []
  }
 ],
 "metadata": {
  "kernelspec": {
   "display_name": "main-ds",
   "language": "python",
   "name": "python3"
  },
  "language_info": {
   "codemirror_mode": {
    "name": "ipython",
    "version": 3
   },
   "file_extension": ".py",
   "mimetype": "text/x-python",
   "name": "python",
   "nbconvert_exporter": "python",
   "pygments_lexer": "ipython3",
   "version": "3.9.6"
  }
 },
 "nbformat": 4,
 "nbformat_minor": 2
}
